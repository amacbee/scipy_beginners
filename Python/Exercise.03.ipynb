{
 "metadata": {
  "name": "",
  "signature": "sha256:bbccafc6111c2380b9dd8d2ceabe33480d865b7d47a8cf9100372b438e80622c"
 },
 "nbformat": 3,
 "nbformat_minor": 0,
 "worksheets": [
  {
   "cells": [
    {
     "cell_type": "code",
     "collapsed": false,
     "input": [
      "import pandas as pd"
     ],
     "language": "python",
     "metadata": {},
     "outputs": [],
     "prompt_number": 1
    },
    {
     "cell_type": "markdown",
     "metadata": {},
     "source": [
      "**\u8ab2\u984c 3-1**: \u5909\u6570 x \u306b\u30d8\u3099\u30af\u30c8\u30eb(1, 2, 3)\u3001\u5909\u6570 y \u306b 2 \u3092\u4ee3\u5165\u3057\u3001x * y\u3092\u8a08\u7b97\u3057\u3066\u307f\u307e\u3057\u3087\u3046\u3002 \u3068\u3099\u3093\u306a\u7b54\u3048\u304b\u3099\u8fd4\u3063\u3066\u304d\u307e\u3059\u304b?"
     ]
    },
    {
     "cell_type": "code",
     "collapsed": false,
     "input": [
      "x = pd.Series(range(1, 4))\n",
      "y = 2\n",
      "x * y"
     ],
     "language": "python",
     "metadata": {},
     "outputs": [
      {
       "metadata": {},
       "output_type": "pyout",
       "prompt_number": 2,
       "text": [
        "0    2\n",
        "1    4\n",
        "2    6\n",
        "dtype: int64"
       ]
      }
     ],
     "prompt_number": 2
    },
    {
     "cell_type": "markdown",
     "metadata": {},
     "source": [
      "**\u8ab2\u984c 3-2**: \u5909\u6570 x \u306b\u30d8\u3099\u30af\u30c8\u30eb(1, 2, 3)\u3092\u4ee3\u5165\u3057\u3001\u3055\u3089\u306b\u305d\u308c\u3092 3 \u500d\u306b\u3057\u305f\u7d50\u679c\u3092 x \u306b\u683c\u7d0d\u3057\u307e\u3057\u3087\u3046\u3002"
     ]
    },
    {
     "cell_type": "code",
     "collapsed": false,
     "input": [
      "x = pd.Series(range(1, 4))\n",
      "x = x * 3\n",
      "x"
     ],
     "language": "python",
     "metadata": {},
     "outputs": [
      {
       "metadata": {},
       "output_type": "pyout",
       "prompt_number": 3,
       "text": [
        "0    3\n",
        "1    6\n",
        "2    9\n",
        "dtype: int64"
       ]
      }
     ],
     "prompt_number": 3
    },
    {
     "cell_type": "code",
     "collapsed": false,
     "input": [],
     "language": "python",
     "metadata": {},
     "outputs": []
    }
   ],
   "metadata": {}
  }
 ]
}