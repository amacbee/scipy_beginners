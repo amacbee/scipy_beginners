{
 "metadata": {
  "name": "",
  "signature": "sha256:fba034f6c255430bd5bb31fc5e5851a649de7d25d8af2de9ec3bbcea76aee230"
 },
 "nbformat": 3,
 "nbformat_minor": 0,
 "worksheets": [
  {
   "cells": [
    {
     "cell_type": "markdown",
     "metadata": {},
     "source": [
      "**\u8ab2\u984c 2-1**: \u5909\u6570 z \u306b\u30d8\u3099\u30af\u30c8\u30eb(10, 11, 12)\u3092\u4ee3\u5165\u3057\u3001\u307e\u305f\u305d\u308c\u3092\u8868\u793a\u3057\u3066\u307f\u307e\u3057\u3087\u3046\u3002"
     ]
    },
    {
     "cell_type": "code",
     "collapsed": false,
     "input": [
      "import pandas as pd\n",
      "\n",
      "pd.Series(range(10, 13))"
     ],
     "language": "python",
     "metadata": {},
     "outputs": [
      {
       "metadata": {},
       "output_type": "pyout",
       "prompt_number": 1,
       "text": [
        "0    10\n",
        "1    11\n",
        "2    12\n",
        "dtype: int64"
       ]
      }
     ],
     "prompt_number": 1
    },
    {
     "cell_type": "code",
     "collapsed": false,
     "input": [],
     "language": "python",
     "metadata": {},
     "outputs": []
    }
   ],
   "metadata": {}
  }
 ]
}