{
 "metadata": {
  "name": "",
  "signature": "sha256:8824ed4414c45951ab60ab4186b70652a3baf00c046d3a6b8bd1cab80180eab1"
 },
 "nbformat": 3,
 "nbformat_minor": 0,
 "worksheets": [
  {
   "cells": [
    {
     "cell_type": "code",
     "collapsed": false,
     "input": [
      "import pandas as pd"
     ],
     "language": "python",
     "metadata": {},
     "outputs": [],
     "prompt_number": 1
    },
    {
     "cell_type": "markdown",
     "metadata": {},
     "source": [
      "**\u8ab2\u984c 12**: \u4ee5\u4e0b\u306e\u8868\u306b\u95a2\u3057\u3066\u3001\u56fd\u571f\u9762\u7a4d\u3068\u4eba\u53e3\u306e\u95a2\u4fc2\u3092\u30d5\u309a\u30ed\u30c3\u30c8\u3057\u3066\u307f\u307e\u3057 \u3087\u3046\u3002\n",
      "\n",
      "|                 | Area | Population | GDP |\n",
      "|:------------:|:------:|:-------------:|:------:|\n",
      "| USA         | 9.4   | 315           | 14    |\n",
      "| England   | 0.2   | 62             | 3      |\n",
      "| Italy         | 0.3   | 60             | 2      |\n",
      "| Canada    | 10.0 | 34             | 2      |\n",
      "| Germany | 0.3    | 82             | 4      |\n",
      "| Japan      | 0.3   | 127           | 5      |\n",
      "| France     | 0.5   | 62             | 3      |\n",
      "| Russia     | 17.1 | 141           | 2      |"
     ]
    },
    {
     "cell_type": "code",
     "collapsed": false,
     "input": [
      "df = pd.DataFrame([[9.4, 315, 14], [0.2, 62, 3], [0.3, 60, 2], [10.0, 34, 2], [0.3, 82, 4], [0.3, 127, 5], [0.5, 62, 3], [17.1, 141, 2]])\n",
      "df.columns = ['Area', 'Population', 'GDP']\n",
      "df.index = ['USA', 'England', 'Italy', 'Canada', 'Germany', 'Japan', 'France', 'Russia']\n",
      "df"
     ],
     "language": "python",
     "metadata": {},
     "outputs": [
      {
       "html": [
        "<div style=\"max-height:1000px;max-width:1500px;overflow:auto;\">\n",
        "<table border=\"1\" class=\"dataframe\">\n",
        "  <thead>\n",
        "    <tr style=\"text-align: right;\">\n",
        "      <th></th>\n",
        "      <th>Area</th>\n",
        "      <th>Population</th>\n",
        "      <th>GDP</th>\n",
        "    </tr>\n",
        "  </thead>\n",
        "  <tbody>\n",
        "    <tr>\n",
        "      <th>USA</th>\n",
        "      <td>  9.4</td>\n",
        "      <td> 315</td>\n",
        "      <td> 14</td>\n",
        "    </tr>\n",
        "    <tr>\n",
        "      <th>England</th>\n",
        "      <td>  0.2</td>\n",
        "      <td>  62</td>\n",
        "      <td>  3</td>\n",
        "    </tr>\n",
        "    <tr>\n",
        "      <th>Italy</th>\n",
        "      <td>  0.3</td>\n",
        "      <td>  60</td>\n",
        "      <td>  2</td>\n",
        "    </tr>\n",
        "    <tr>\n",
        "      <th>Canada</th>\n",
        "      <td> 10.0</td>\n",
        "      <td>  34</td>\n",
        "      <td>  2</td>\n",
        "    </tr>\n",
        "    <tr>\n",
        "      <th>Germany</th>\n",
        "      <td>  0.3</td>\n",
        "      <td>  82</td>\n",
        "      <td>  4</td>\n",
        "    </tr>\n",
        "    <tr>\n",
        "      <th>Japan</th>\n",
        "      <td>  0.3</td>\n",
        "      <td> 127</td>\n",
        "      <td>  5</td>\n",
        "    </tr>\n",
        "    <tr>\n",
        "      <th>France</th>\n",
        "      <td>  0.5</td>\n",
        "      <td>  62</td>\n",
        "      <td>  3</td>\n",
        "    </tr>\n",
        "    <tr>\n",
        "      <th>Russia</th>\n",
        "      <td> 17.1</td>\n",
        "      <td> 141</td>\n",
        "      <td>  2</td>\n",
        "    </tr>\n",
        "  </tbody>\n",
        "</table>\n",
        "<p>8 rows \u00d7 3 columns</p>\n",
        "</div>"
       ],
       "metadata": {},
       "output_type": "pyout",
       "prompt_number": 2,
       "text": [
        "         Area  Population  GDP\n",
        "USA       9.4         315   14\n",
        "England   0.2          62    3\n",
        "Italy     0.3          60    2\n",
        "Canada   10.0          34    2\n",
        "Germany   0.3          82    4\n",
        "Japan     0.3         127    5\n",
        "France    0.5          62    3\n",
        "Russia   17.1         141    2\n",
        "\n",
        "[8 rows x 3 columns]"
       ]
      }
     ],
     "prompt_number": 2
    },
    {
     "cell_type": "code",
     "collapsed": false,
     "input": [
      "plot(df.Area, df.Population, 'o')"
     ],
     "language": "python",
     "metadata": {},
     "outputs": [
      {
       "metadata": {},
       "output_type": "pyout",
       "prompt_number": 3,
       "text": [
        "[<matplotlib.lines.Line2D at 0x10d67a5d0>]"
       ]
      },
      {
       "metadata": {},
       "output_type": "display_data",
       "png": "[encoded data removed]",
       "text": [
        "<matplotlib.figure.Figure at 0x10d64d310>"
       ]
      }
     ],
     "prompt_number": 3
    },
    {
     "cell_type": "code",
     "collapsed": false,
     "input": [],
     "language": "python",
     "metadata": {},
     "outputs": []
    }
   ],
   "metadata": {}
  }
 ]
}