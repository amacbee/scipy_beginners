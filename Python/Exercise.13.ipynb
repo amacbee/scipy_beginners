{
 "metadata": {
  "name": "",
  "signature": "sha256:f9d75304f53f3d9215e157e6ac9c3b29f1090d5a3348260eda8fb08a5b7aba8b"
 },
 "nbformat": 3,
 "nbformat_minor": 0,
 "worksheets": [
  {
   "cells": [
    {
     "cell_type": "markdown",
     "metadata": {},
     "source": [
      "**\u8ab2\u984c 13-1**: \u5165\u529b\u304b\u3099 0 \u306e\u3068\u304d\u306b 1\u3001\u305d\u308c\u4ee5\u5916\u3066\u3099\u306f 0 \u3092\u8fd4\u3059\u95a2\u6570 d \u3092\u5b9a\u7fa9\u3057\u307e\u3057\u3087\u3046\u3002"
     ]
    },
    {
     "cell_type": "code",
     "collapsed": false,
     "input": [
      "d = lambda x: 1 if x == 0 else 0\n",
      "print d(0)\n",
      "print d(5)"
     ],
     "language": "python",
     "metadata": {},
     "outputs": [
      {
       "output_type": "stream",
       "stream": "stdout",
       "text": [
        "1\n",
        "0\n"
       ]
      }
     ],
     "prompt_number": 1
    },
    {
     "cell_type": "markdown",
     "metadata": {},
     "source": [
      "**\u8ab2\u984c 13-2**: while \u6587\u3092\u4f7f\u3063\u3066\u30011,3,5,7,9,11 \u30921\u884c\u3059\u3099\u3064\u8868\u793a\u3057\u307e\u3057\u3087\u3046\u3002"
     ]
    },
    {
     "cell_type": "code",
     "collapsed": false,
     "input": [
      "i = 0\n",
      "while(i < 6):\n",
      "    print i * 2 + 1\n",
      "    i = i + 1"
     ],
     "language": "python",
     "metadata": {},
     "outputs": [
      {
       "output_type": "stream",
       "stream": "stdout",
       "text": [
        "1\n",
        "3\n",
        "5\n",
        "7\n",
        "9\n",
        "11\n"
       ]
      }
     ],
     "prompt_number": 2
    },
    {
     "cell_type": "markdown",
     "metadata": {},
     "source": [
      "**\u8ab2\u984c 13-3**: \u8ab2\u984c 13-2 \u3092 for \u6587\u3092\u4f7f\u3063\u3066\u66f8\u304d\u76f4\u3057\u307e\u3057\u3087\u3046\u3002"
     ]
    },
    {
     "cell_type": "code",
     "collapsed": false,
     "input": [
      "for i in range(6):\n",
      "    print i * 2 + 1"
     ],
     "language": "python",
     "metadata": {},
     "outputs": [
      {
       "output_type": "stream",
       "stream": "stdout",
       "text": [
        "1\n",
        "3\n",
        "5\n",
        "7\n",
        "9\n",
        "11\n"
       ]
      }
     ],
     "prompt_number": 3
    },
    {
     "cell_type": "code",
     "collapsed": false,
     "input": [],
     "language": "python",
     "metadata": {},
     "outputs": []
    }
   ],
   "metadata": {}
  }
 ]
}