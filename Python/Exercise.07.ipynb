{
 "metadata": {
  "name": "",
  "signature": "sha256:be56318eaadee9fa82842ad12882fc769b762198bf34f312f57b20395be46ae2"
 },
 "nbformat": 3,
 "nbformat_minor": 0,
 "worksheets": [
  {
   "cells": [
    {
     "cell_type": "code",
     "collapsed": false,
     "input": [
      "import pandas as pd"
     ],
     "language": "python",
     "metadata": {},
     "outputs": [],
     "prompt_number": 1
    },
    {
     "cell_type": "markdown",
     "metadata": {},
     "source": [
      "**\u8ab2\u984c 7-1**: \u4e0b\u306e\u8868\u306f G8 \u52a0\u76df\u56fd\u306e\u56fd\u529b\u306e\u4e00\u90e8\u3066\u3099\u3059\u3002\u3053\u308c\u3092\u30c6\u3099\u30fc\u30bf\u30d5\u30ec\u30fc\u30e0\u3068\u3057\u3066\u5909\u6570\u306b\u3057\u307e\u3057\u3087\u3046\u3002\n",
      "\n",
      "|                 | Area | Population | GDP |\n",
      "|:------------:|:------:|:-------------:|:------:|\n",
      "| USA         | 9.4   | 315           | 14    |\n",
      "| England   | 0.2   | 62             | 3      |\n",
      "| Italy         | 0.3   | 60             | 2      |\n",
      "| Canada    | 10.0 | 34             | 2      |\n",
      "| Germany | 0.3    | 82             | 4      |\n",
      "| Japan      | 0.3   | 127           | 5      |\n",
      "| France     | 0.5   | 62             | 3      |\n",
      "| Russia     | 17.1 | 141           | 2      |"
     ]
    },
    {
     "cell_type": "code",
     "collapsed": false,
     "input": [
      "df = pd.DataFrame([[9.4, 315, 14], [0.2, 62, 3], [0.3, 60, 2], [10.0, 34, 2], [0.3, 82, 4], [0.3, 127, 5], [0.5, 62, 3], [17.1, 141, 2]])\n",
      "df.columns = ['Area', 'Population', 'GDP']\n",
      "df.index = ['USA', 'England', 'Italy', 'Canada', 'Germany', 'Japan', 'France', 'Russia']\n",
      "df"
     ],
     "language": "python",
     "metadata": {},
     "outputs": [
      {
       "html": [
        "<div style=\"max-height:1000px;max-width:1500px;overflow:auto;\">\n",
        "<table border=\"1\" class=\"dataframe\">\n",
        "  <thead>\n",
        "    <tr style=\"text-align: right;\">\n",
        "      <th></th>\n",
        "      <th>Area</th>\n",
        "      <th>Population</th>\n",
        "      <th>GDP</th>\n",
        "    </tr>\n",
        "  </thead>\n",
        "  <tbody>\n",
        "    <tr>\n",
        "      <th>USA</th>\n",
        "      <td>  9.4</td>\n",
        "      <td> 315</td>\n",
        "      <td> 14</td>\n",
        "    </tr>\n",
        "    <tr>\n",
        "      <th>England</th>\n",
        "      <td>  0.2</td>\n",
        "      <td>  62</td>\n",
        "      <td>  3</td>\n",
        "    </tr>\n",
        "    <tr>\n",
        "      <th>Italy</th>\n",
        "      <td>  0.3</td>\n",
        "      <td>  60</td>\n",
        "      <td>  2</td>\n",
        "    </tr>\n",
        "    <tr>\n",
        "      <th>Canada</th>\n",
        "      <td> 10.0</td>\n",
        "      <td>  34</td>\n",
        "      <td>  2</td>\n",
        "    </tr>\n",
        "    <tr>\n",
        "      <th>Germany</th>\n",
        "      <td>  0.3</td>\n",
        "      <td>  82</td>\n",
        "      <td>  4</td>\n",
        "    </tr>\n",
        "    <tr>\n",
        "      <th>Japan</th>\n",
        "      <td>  0.3</td>\n",
        "      <td> 127</td>\n",
        "      <td>  5</td>\n",
        "    </tr>\n",
        "    <tr>\n",
        "      <th>France</th>\n",
        "      <td>  0.5</td>\n",
        "      <td>  62</td>\n",
        "      <td>  3</td>\n",
        "    </tr>\n",
        "    <tr>\n",
        "      <th>Russia</th>\n",
        "      <td> 17.1</td>\n",
        "      <td> 141</td>\n",
        "      <td>  2</td>\n",
        "    </tr>\n",
        "  </tbody>\n",
        "</table>\n",
        "<p>8 rows \u00d7 3 columns</p>\n",
        "</div>"
       ],
       "metadata": {},
       "output_type": "pyout",
       "prompt_number": 2,
       "text": [
        "         Area  Population  GDP\n",
        "USA       9.4         315   14\n",
        "England   0.2          62    3\n",
        "Italy     0.3          60    2\n",
        "Canada   10.0          34    2\n",
        "Germany   0.3          82    4\n",
        "Japan     0.3         127    5\n",
        "France    0.5          62    3\n",
        "Russia   17.1         141    2\n",
        "\n",
        "[8 rows x 3 columns]"
       ]
      }
     ],
     "prompt_number": 2
    },
    {
     "cell_type": "markdown",
     "metadata": {},
     "source": [
      "**\u8ab2\u984c 7-2**: \u4e0a\u8a18\u3066\u3099\u4f5c\u6210\u3057\u305f\u30c6\u3099\u30fc\u30bf\u30d5\u30ec\u30fc\u30e0\u3088\u308a G8 \u52a0\u76df\u56fd\u306e\u56fd\u571f\u9762\u7a4d\u3001\u4eba\u53e3\u3001GDP \u306e\u5e73\u5747\u3092\u305d\u308c\u305d\u3099\u308c\u6c42\u3081\u307e\u3057\u3087\u3046\u3002"
     ]
    },
    {
     "cell_type": "code",
     "collapsed": false,
     "input": [
      "df.Area.mean()  # Area\u306e\u5e73\u5747"
     ],
     "language": "python",
     "metadata": {},
     "outputs": [
      {
       "metadata": {},
       "output_type": "pyout",
       "prompt_number": 3,
       "text": [
        "4.7625000000000002"
       ]
      }
     ],
     "prompt_number": 3
    },
    {
     "cell_type": "code",
     "collapsed": false,
     "input": [
      "df.Population.mean()  # Population\u306e\u5e73\u5747"
     ],
     "language": "python",
     "metadata": {},
     "outputs": [
      {
       "metadata": {},
       "output_type": "pyout",
       "prompt_number": 4,
       "text": [
        "110.375"
       ]
      }
     ],
     "prompt_number": 4
    },
    {
     "cell_type": "code",
     "collapsed": false,
     "input": [
      "df.GDP.mean()  # GDP\u306e\u5e73\u5747"
     ],
     "language": "python",
     "metadata": {},
     "outputs": [
      {
       "metadata": {},
       "output_type": "pyout",
       "prompt_number": 5,
       "text": [
        "4.375"
       ]
      }
     ],
     "prompt_number": 5
    },
    {
     "cell_type": "code",
     "collapsed": false,
     "input": [],
     "language": "python",
     "metadata": {},
     "outputs": []
    }
   ],
   "metadata": {}
  }
 ]
}