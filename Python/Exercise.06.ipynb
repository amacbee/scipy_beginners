{
 "metadata": {
  "name": "",
  "signature": "sha256:25ec2f7c55076429735800b3783717f182a97e1c33e6c600aa5c3276ab2ea821"
 },
 "nbformat": 3,
 "nbformat_minor": 0,
 "worksheets": [
  {
   "cells": [
    {
     "cell_type": "code",
     "collapsed": false,
     "input": [
      "import pandas as pd"
     ],
     "language": "python",
     "metadata": {},
     "outputs": [],
     "prompt_number": 1
    },
    {
     "cell_type": "markdown",
     "metadata": {},
     "source": [
      "**\u8ab2\u984c 6-1**: \u540d\u524d\u304b\u3099 Yamagata \u306e\u30d8\u3099\u30af\u30c8\u30eb(''Tsuruoka'', ''Sakata'', ''Yonezawa'')\u3068\u540d\u524d\u304b\u3099 Niigata \u306e\u30d8\u3099\u30af\u30c8\u30eb(''Yuzawa'', ''Niitsu'', ''Shibata'')\u3092\u8981\u7d20\u306b\u3057\u305f\u3088\u3046\u306a\u30ea\u30b9\u30c8\u3092\u4f5c\u6210\u3057\u3001\u305d\u306e\u4e2d\u5473\u3092\u8868\u793a\u3057\u3066\u307f\u307e\u3057\u3087\u3046\u3002"
     ]
    },
    {
     "cell_type": "code",
     "collapsed": false,
     "input": [
      "Yamagata = pd.Series(['Tsuruoka', 'Sakata', 'Yonezawa'])\n",
      "Niigata = pd.Series(['Yuzawa', 'Niitsu', 'Shibata'])\n",
      "[Yamagata, Niigata]"
     ],
     "language": "python",
     "metadata": {},
     "outputs": [
      {
       "metadata": {},
       "output_type": "pyout",
       "prompt_number": 2,
       "text": [
        "[0    Tsuruoka\n",
        " 1      Sakata\n",
        " 2    Yonezawa\n",
        " dtype: object, 0     Yuzawa\n",
        " 1     Niitsu\n",
        " 2    Shibata\n",
        " dtype: object]"
       ]
      }
     ],
     "prompt_number": 2
    },
    {
     "cell_type": "code",
     "collapsed": false,
     "input": [],
     "language": "python",
     "metadata": {},
     "outputs": []
    }
   ],
   "metadata": {}
  }
 ]
}