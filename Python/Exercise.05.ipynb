{
 "metadata": {
  "name": "",
  "signature": "sha256:b088c581e22380bfe977836112fea4b2acd739a8441946e96fe57c8399980e79"
 },
 "nbformat": 3,
 "nbformat_minor": 0,
 "worksheets": [
  {
   "cells": [
    {
     "cell_type": "code",
     "collapsed": false,
     "input": [
      "import numpy as np"
     ],
     "language": "python",
     "metadata": {},
     "outputs": [],
     "prompt_number": 1
    },
    {
     "cell_type": "markdown",
     "metadata": {},
     "source": [
      "**\u8ab2\u984c5-1**: $$\\begin{pmatrix}1 & 3 & 5 \\\\ 7 & 9 & 11\\end{pmatrix} + \\begin{pmatrix}1 & 2 & 3 \\\\ 2 & 4 & 6\\end{pmatrix}$$\u3092\u8a08\u7b97\u3057\u307e\u3057\u3087\u3046\u3002"
     ]
    },
    {
     "cell_type": "code",
     "collapsed": false,
     "input": [
      "a = np.array([[1, 3, 5], [7, 9, 11]])\n",
      "b = np.array([[1, 2, 3], [2, 4, 6]])\n",
      "c = a + b\n",
      "c"
     ],
     "language": "python",
     "metadata": {},
     "outputs": [
      {
       "metadata": {},
       "output_type": "pyout",
       "prompt_number": 2,
       "text": [
        "array([[ 2,  5,  8],\n",
        "       [ 9, 13, 17]])"
       ]
      }
     ],
     "prompt_number": 2
    },
    {
     "cell_type": "markdown",
     "metadata": {},
     "source": [
      "**\u8ab2\u984c5-2**: \u4e0a\u8a18\u7d50\u679c\u306b\u5bfe\u3057\u3066\u884c\u3001\u5217\u305d\u308c\u305d\u3099\u308c\u306e\u5e73\u5747\u3092\u6c42\u3081\u307e\u3057\u3087\u3046\u3002"
     ]
    },
    {
     "cell_type": "code",
     "collapsed": false,
     "input": [
      "print [c[i, :].mean() for i in range(c.shape[0])]  # \u884c\u5e73\u5747\n",
      "print [c[:, i].mean() for i in range(c.shape[1])]  # \u5217\u5e73\u5747"
     ],
     "language": "python",
     "metadata": {},
     "outputs": [
      {
       "output_type": "stream",
       "stream": "stdout",
       "text": [
        "[5.0, 13.0]\n",
        "[5.5, 9.0, 12.5]\n"
       ]
      }
     ],
     "prompt_number": 3
    },
    {
     "cell_type": "code",
     "collapsed": false,
     "input": [],
     "language": "python",
     "metadata": {},
     "outputs": []
    }
   ],
   "metadata": {}
  }
 ]
}