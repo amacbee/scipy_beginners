{
 "metadata": {
  "name": "",
  "signature": "sha256:077f83c6dce4bc730379e23f58c6b22cbdbde629cbddccd71c141e5b5d00deb2"
 },
 "nbformat": 3,
 "nbformat_minor": 0,
 "worksheets": [
  {
   "cells": [
    {
     "cell_type": "markdown",
     "metadata": {},
     "source": [
      "**\u8ab2\u984c 10**: \u8ab2\u984c 8 \u306e\u624b\u7d9a\u304d\u3092\u4fdd\u5b58\u3057\u305f dframetest.py \u3068\u3044\u3046\u30d5\u30a1\u30a4\u30eb\u3092\u8aad\u307f\u8fbc\u307f\u3001\u305d\u306e\u624b\u7d9a\u304d\u3092\u5b9f\u884c\u3057\u3066\u307f\u307e\u3057\u3087\u3046\u3002"
     ]
    },
    {
     "cell_type": "code",
     "collapsed": false,
     "input": [
      "%run dframetest.py"
     ],
     "language": "python",
     "metadata": {},
     "outputs": [
      {
       "output_type": "stream",
       "stream": "stdout",
       "text": [
        "            Team  At_Bat  Hits  Home_Runs\n",
        "Nomura     Hawks   10472  2901        657\n",
        "Harimoto  Flyers    9666  3085        504\n",
        "Kinugasa   Carps    9404  2543        504\n",
        "Oh        Giants    9250  2786        868\n",
        "Kadota     Hawks    8868  2566        567\n",
        "\n",
        "[5 rows x 4 columns]\n"
       ]
      }
     ],
     "prompt_number": 1
    },
    {
     "cell_type": "code",
     "collapsed": false,
     "input": [],
     "language": "python",
     "metadata": {},
     "outputs": []
    }
   ],
   "metadata": {}
  }
 ]
}