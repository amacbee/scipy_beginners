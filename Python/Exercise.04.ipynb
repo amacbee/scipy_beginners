{
 "metadata": {
  "name": "",
  "signature": "sha256:d893946c5e98a6d980bde990f6a5834d69d36c2d732dc3a1137ed897de427330"
 },
 "nbformat": 3,
 "nbformat_minor": 0,
 "worksheets": [
  {
   "cells": [
    {
     "cell_type": "code",
     "collapsed": false,
     "input": [
      "import pandas as pd"
     ],
     "language": "python",
     "metadata": {},
     "outputs": [],
     "prompt_number": 1
    },
    {
     "cell_type": "markdown",
     "metadata": {},
     "source": [
      "**\u8ab2\u984c 4-1**: \u30d8\u3099\u30af\u30c8\u30eb(3, 1, 4, 1, 5, 9, 2, 6, 5)\u306e\u4e2d\u3066\u3099 5 \u3088\u308a\u5927\u304d\u3044\u8981\u7d20\u304b\u3089\u306a\u308b\u30d8\u3099\u30af\u30c8\u30eb\u3092\u4f5c\u6210 \u3057\u307e\u3057\u3087\u3046\u3002"
     ]
    },
    {
     "cell_type": "code",
     "collapsed": false,
     "input": [
      "x = pd.Series([3, 1, 4, 1, 5, 9, 2, 6, 5])\n",
      "x[x > 5]"
     ],
     "language": "python",
     "metadata": {},
     "outputs": [
      {
       "metadata": {},
       "output_type": "pyout",
       "prompt_number": 2,
       "text": [
        "5    9\n",
        "7    6\n",
        "dtype: int64"
       ]
      }
     ],
     "prompt_number": 2
    },
    {
     "cell_type": "markdown",
     "metadata": {},
     "source": [
      "**\u8ab2\u984c 4-2**: \u30d8\u3099\u30af\u30c8\u30eb(1,2,3,4,5,6,7,8,9,10,11,12)\u306b(''Jan'', ''Feb'', ''Mar'', ''Apr'', ''May'', ''Jun'', ''Jul'', ''Aug'', ''Sep'', ''Oct'', ''Nov'', ''Dec'')\u3068\u3044\u3046\u540d\u524d\u3092\u4ed8\u3051\u3001''Mar''\u3068\u3044\u3046\u6587\u5b57\u5217\u3092\u4f7f\u3063\u3066 3 \u756a\u76ee\u306e\u8981\u7d20\u3092\u53d6\u308a\u51fa\u3057\u3066\u307f\u307e\u3057\u3087\u3046\u3002"
     ]
    },
    {
     "cell_type": "code",
     "collapsed": false,
     "input": [
      "x = pd.Series([1, 2, 3, 4, 5, 6, 7, 8, 9, 10, 11, 12])\n",
      "x.index = ['Jan', 'Feb', 'Mar', 'Apr', 'May', 'Jun', 'Jul', 'Aug', 'Sep', 'Oct', 'Nov', 'Dec']\n",
      "x.loc['Mar']"
     ],
     "language": "python",
     "metadata": {},
     "outputs": [
      {
       "metadata": {},
       "output_type": "pyout",
       "prompt_number": 3,
       "text": [
        "3"
       ]
      }
     ],
     "prompt_number": 3
    },
    {
     "cell_type": "code",
     "collapsed": false,
     "input": [],
     "language": "python",
     "metadata": {},
     "outputs": []
    }
   ],
   "metadata": {}
  }
 ]
}