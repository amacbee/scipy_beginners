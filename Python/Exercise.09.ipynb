{
 "metadata": {
  "name": "",
  "signature": "sha256:84781f5d32e3848d5562db571438c6c7e4d8b071318b80d85f262a7388090cb8"
 },
 "nbformat": 3,
 "nbformat_minor": 0,
 "worksheets": [
  {
   "cells": [
    {
     "cell_type": "code",
     "collapsed": false,
     "input": [
      "import pandas as pd"
     ],
     "language": "python",
     "metadata": {},
     "outputs": [],
     "prompt_number": 1
    },
    {
     "cell_type": "markdown",
     "metadata": {},
     "source": [
      "\u8ab2\u984c 9: \u4e0b\u8a18\u30c6\u3099\u30fc\u30bf\u30d5\u30ec\u30fc\u30e0\u3066\u3099\u3001\u5404\u30cf\u3099\u30c3\u30bf\u30fc\u306b\u5bfe\u3057\u3066\u6253\u7387\u3001\u3059\u306a\u308f\u3061 Hits / At_Bat \u3092\u8a08\u7b97\u3057\u3001\u305d\u306e\u7d50\u679c\u3092''outfile.txt''\u306b\u683c\u7d0d\u3057\u307e\u3057\u3087\u3046\u3002\n",
      "\n",
      "|                | Hits    | Home_Runs |\n",
      "|:-----------:|:--------:|:---------------:|\n",
      "| Nomura   |  2901 | 657            |\n",
      "| Harimoto | 3085  | 504            |\n",
      "| Kinugasa | 2543  | 504            |\n",
      "| Oh           | 2786  | 868            |\n",
      "| Kadota    | 2566  | 567            |"
     ]
    },
    {
     "cell_type": "code",
     "collapsed": false,
     "input": [
      "df = pd.DataFrame([[2901, 657], [3085, 504], [2543, 504], [2786, 868], [2566, 567]])\n",
      "df.columns = ['Hits', 'Home_Runs']\n",
      "df.index = ['Nomura', 'Harimoto', 'Kinugasa', 'Oh', 'Kadota']\n",
      "df"
     ],
     "language": "python",
     "metadata": {},
     "outputs": [
      {
       "html": [
        "<div style=\"max-height:1000px;max-width:1500px;overflow:auto;\">\n",
        "<table border=\"1\" class=\"dataframe\">\n",
        "  <thead>\n",
        "    <tr style=\"text-align: right;\">\n",
        "      <th></th>\n",
        "      <th>Hits</th>\n",
        "      <th>Home_Runs</th>\n",
        "    </tr>\n",
        "  </thead>\n",
        "  <tbody>\n",
        "    <tr>\n",
        "      <th>Nomura</th>\n",
        "      <td> 2901</td>\n",
        "      <td> 657</td>\n",
        "    </tr>\n",
        "    <tr>\n",
        "      <th>Harimoto</th>\n",
        "      <td> 3085</td>\n",
        "      <td> 504</td>\n",
        "    </tr>\n",
        "    <tr>\n",
        "      <th>Kinugasa</th>\n",
        "      <td> 2543</td>\n",
        "      <td> 504</td>\n",
        "    </tr>\n",
        "    <tr>\n",
        "      <th>Oh</th>\n",
        "      <td> 2786</td>\n",
        "      <td> 868</td>\n",
        "    </tr>\n",
        "    <tr>\n",
        "      <th>Kadota</th>\n",
        "      <td> 2566</td>\n",
        "      <td> 567</td>\n",
        "    </tr>\n",
        "  </tbody>\n",
        "</table>\n",
        "<p>5 rows \u00d7 2 columns</p>\n",
        "</div>"
       ],
       "metadata": {},
       "output_type": "pyout",
       "prompt_number": 2,
       "text": [
        "          Hits  Home_Runs\n",
        "Nomura    2901        657\n",
        "Harimoto  3085        504\n",
        "Kinugasa  2543        504\n",
        "Oh        2786        868\n",
        "Kadota    2566        567\n",
        "\n",
        "[5 rows x 2 columns]"
       ]
      }
     ],
     "prompt_number": 2
    },
    {
     "cell_type": "code",
     "collapsed": false,
     "input": [
      "at_bat_df = pd.DataFrame(pd.Series([10472, 9666, 9404, 9250, 8868]), columns=['At_Bat'])\n",
      "at_bat_df.index = ['Nomura', 'Harimoto', 'Kinugasa', 'Oh', 'Kadota']\n",
      "df = pd.concat([df, at_bat_df], axis=1)\n",
      "df['Hits_At_Bat'] = df['Hits'] / df['At_Bat']\n",
      "df"
     ],
     "language": "python",
     "metadata": {},
     "outputs": [
      {
       "html": [
        "<div style=\"max-height:1000px;max-width:1500px;overflow:auto;\">\n",
        "<table border=\"1\" class=\"dataframe\">\n",
        "  <thead>\n",
        "    <tr style=\"text-align: right;\">\n",
        "      <th></th>\n",
        "      <th>Hits</th>\n",
        "      <th>Home_Runs</th>\n",
        "      <th>At_Bat</th>\n",
        "      <th>Hits_At_Bat</th>\n",
        "    </tr>\n",
        "  </thead>\n",
        "  <tbody>\n",
        "    <tr>\n",
        "      <th>Nomura</th>\n",
        "      <td> 2901</td>\n",
        "      <td> 657</td>\n",
        "      <td> 10472</td>\n",
        "      <td> 0.277024</td>\n",
        "    </tr>\n",
        "    <tr>\n",
        "      <th>Harimoto</th>\n",
        "      <td> 3085</td>\n",
        "      <td> 504</td>\n",
        "      <td>  9666</td>\n",
        "      <td> 0.319160</td>\n",
        "    </tr>\n",
        "    <tr>\n",
        "      <th>Kinugasa</th>\n",
        "      <td> 2543</td>\n",
        "      <td> 504</td>\n",
        "      <td>  9404</td>\n",
        "      <td> 0.270417</td>\n",
        "    </tr>\n",
        "    <tr>\n",
        "      <th>Oh</th>\n",
        "      <td> 2786</td>\n",
        "      <td> 868</td>\n",
        "      <td>  9250</td>\n",
        "      <td> 0.301189</td>\n",
        "    </tr>\n",
        "    <tr>\n",
        "      <th>Kadota</th>\n",
        "      <td> 2566</td>\n",
        "      <td> 567</td>\n",
        "      <td>  8868</td>\n",
        "      <td> 0.289355</td>\n",
        "    </tr>\n",
        "  </tbody>\n",
        "</table>\n",
        "<p>5 rows \u00d7 4 columns</p>\n",
        "</div>"
       ],
       "metadata": {},
       "output_type": "pyout",
       "prompt_number": 3,
       "text": [
        "          Hits  Home_Runs  At_Bat  Hits_At_Bat\n",
        "Nomura    2901        657   10472     0.277024\n",
        "Harimoto  3085        504    9666     0.319160\n",
        "Kinugasa  2543        504    9404     0.270417\n",
        "Oh        2786        868    9250     0.301189\n",
        "Kadota    2566        567    8868     0.289355\n",
        "\n",
        "[5 rows x 4 columns]"
       ]
      }
     ],
     "prompt_number": 3
    },
    {
     "cell_type": "code",
     "collapsed": false,
     "input": [
      "df.to_csv('../data/output.txt', sep='\\t')"
     ],
     "language": "python",
     "metadata": {},
     "outputs": [],
     "prompt_number": 4
    },
    {
     "cell_type": "code",
     "collapsed": false,
     "input": [],
     "language": "python",
     "metadata": {},
     "outputs": []
    }
   ],
   "metadata": {}
  }
 ]
}