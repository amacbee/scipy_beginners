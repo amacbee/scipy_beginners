{
 "metadata": {
  "name": "",
  "signature": "sha256:6d82e00bc88e87671226fd8ad5651638783d1d81cac9c3e25397e76fdd047cb3"
 },
 "nbformat": 3,
 "nbformat_minor": 0,
 "worksheets": [
  {
   "cells": [
    {
     "cell_type": "code",
     "collapsed": false,
     "input": [
      "import pandas as pd"
     ],
     "language": "python",
     "metadata": {},
     "outputs": [],
     "prompt_number": 1
    },
    {
     "cell_type": "markdown",
     "metadata": {},
     "source": [
      "**\u8ab2\u984c 8**: \u4ee5\u4e0b\u306e\u8868\u3092\u30bf\u30d5\u3099\u533a\u5207\u308a\u30d5\u30a1\u30a4\u30eb\u3068\u3057\u3066\u4fdd\u5b58\u3057\u3001\u30c6\u3099\u30fc\u30bf\u30d5\u30ec\u30fc\u30e0\u3068\u3057\u3066\u8aad\u307f\u8fbc\u3093\u3066\u3099\u307f\u307e\u3057\u3087\u3046\u3002  \n",
      "\u3000\u3000\u3000\u3000data/batters.txt \u306b\u4fdd\u5b58\u6e08\u307f\n",
      "\n",
      "|                | Team   | At_Bat | Hits    | Home_Runs |\n",
      "|:----------------------:|:---------:|:-------:|:----------------:|\n",
      "| Nomura   | Hawks  | 10472 | 2901 | 657              |\n",
      "| Harimoto | Flyers   | 9666   | 3085 | 504              |\n",
      "| Kinugasa | Carps   | 9404   | 2543 | 504              |\n",
      "| Oh           | Giants  | 9250   | 2786 | 868              |\n",
      "| Kadota    | Hawks  | 8868   | 2566 | 567              |"
     ]
    },
    {
     "cell_type": "code",
     "collapsed": false,
     "input": [
      "pd.read_table('../data/batters.txt', sep='\\t', index_col=0)"
     ],
     "language": "python",
     "metadata": {},
     "outputs": [
      {
       "html": [
        "<div style=\"max-height:1000px;max-width:1500px;overflow:auto;\">\n",
        "<table border=\"1\" class=\"dataframe\">\n",
        "  <thead>\n",
        "    <tr style=\"text-align: right;\">\n",
        "      <th></th>\n",
        "      <th>Team</th>\n",
        "      <th>At_Bat</th>\n",
        "      <th>Hits</th>\n",
        "      <th>Home_Runs</th>\n",
        "    </tr>\n",
        "  </thead>\n",
        "  <tbody>\n",
        "    <tr>\n",
        "      <th>Nomura</th>\n",
        "      <td>  Hawks</td>\n",
        "      <td> 10472</td>\n",
        "      <td> 2901</td>\n",
        "      <td> 657</td>\n",
        "    </tr>\n",
        "    <tr>\n",
        "      <th>Harimoto</th>\n",
        "      <td> Flyers</td>\n",
        "      <td>  9666</td>\n",
        "      <td> 3085</td>\n",
        "      <td> 504</td>\n",
        "    </tr>\n",
        "    <tr>\n",
        "      <th>Kinugasa</th>\n",
        "      <td>  Carps</td>\n",
        "      <td>  9404</td>\n",
        "      <td> 2543</td>\n",
        "      <td> 504</td>\n",
        "    </tr>\n",
        "    <tr>\n",
        "      <th>Oh</th>\n",
        "      <td> Giants</td>\n",
        "      <td>  9250</td>\n",
        "      <td> 2786</td>\n",
        "      <td> 868</td>\n",
        "    </tr>\n",
        "    <tr>\n",
        "      <th>Kadota</th>\n",
        "      <td>  Hawks</td>\n",
        "      <td>  8868</td>\n",
        "      <td> 2566</td>\n",
        "      <td> 567</td>\n",
        "    </tr>\n",
        "  </tbody>\n",
        "</table>\n",
        "<p>5 rows \u00d7 4 columns</p>\n",
        "</div>"
       ],
       "metadata": {},
       "output_type": "pyout",
       "prompt_number": 2,
       "text": [
        "            Team  At_Bat  Hits  Home_Runs\n",
        "Nomura     Hawks   10472  2901        657\n",
        "Harimoto  Flyers    9666  3085        504\n",
        "Kinugasa   Carps    9404  2543        504\n",
        "Oh        Giants    9250  2786        868\n",
        "Kadota     Hawks    8868  2566        567\n",
        "\n",
        "[5 rows x 4 columns]"
       ]
      }
     ],
     "prompt_number": 2
    },
    {
     "cell_type": "code",
     "collapsed": false,
     "input": [],
     "language": "python",
     "metadata": {},
     "outputs": []
    }
   ],
   "metadata": {}
  }
 ]
}