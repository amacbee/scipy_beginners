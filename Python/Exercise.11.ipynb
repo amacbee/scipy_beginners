{
 "metadata": {
  "name": "",
  "signature": "sha256:55db2b799ba4f67085e1ac6d1aca141eb2990a9c3482c63c920580fb85ec66a4"
 },
 "nbformat": 3,
 "nbformat_minor": 0,
 "worksheets": [
  {
   "cells": [
    {
     "cell_type": "markdown",
     "metadata": {},
     "source": [
      "**\u8ab2\u984c 11**:\u4ee5\u4e0b\u306e\u8a08\u7b97\u3092Python\u306e\u95a2\u6570\u3068\u3057\u3066\u5b9f\u88c5\u3057\u307e\u3057\u3087\u3046\u3002 $$f(x, a, b, c) = ax^2 + bx + c$$ f(4, 3, 2, 1)\u306f\u3044\u304f\u3064 \u306b\u306a\u308a\u307e\u3059\u304b\u3002"
     ]
    },
    {
     "cell_type": "code",
     "collapsed": false,
     "input": [
      "f = lambda x, a, b, c: a * x * x + b * x + c\n",
      "f(4, 3, 2, 1)"
     ],
     "language": "python",
     "metadata": {},
     "outputs": [
      {
       "metadata": {},
       "output_type": "pyout",
       "prompt_number": 1,
       "text": [
        "57"
       ]
      }
     ],
     "prompt_number": 1
    },
    {
     "cell_type": "code",
     "collapsed": false,
     "input": [],
     "language": "python",
     "metadata": {},
     "outputs": []
    }
   ],
   "metadata": {}
  }
 ]
}